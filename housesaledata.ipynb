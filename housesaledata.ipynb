{
 "cells": [
  {
   "cell_type": "code",
   "execution_count": null,
   "id": "e914c081-0e71-4c76-88e7-de28f07174b5",
   "metadata": {},
   "outputs": [],
   "source": [
    "from splinter import Browser\n",
    "from bs4 import BeautifulSoup as soup\n",
    "import matplotlib.pyplot as plt\n",
    "import pandas as pd\n",
    "from selenium.webdriver.support.ui import WebDriverWait\n",
    "from selenium.webdriver.support import expected_conditions as EC\n",
    "from selenium.webdriver.common.by import By"
   ]
  },
  {
   "cell_type": "code",
   "execution_count": null,
   "id": "d2624ae5-31c0-422b-b528-8dd78ba3f719",
   "metadata": {},
   "outputs": [],
   "source": [
    "html = browser.html\n",
    "soup_obj = soup(html, 'html.parser')"
   ]
  },
  {
   "cell_type": "code",
   "execution_count": null,
   "id": "1e4ac566-185f-49f0-b406-82e2df1b8b67",
   "metadata": {},
   "outputs": [],
   "source": [
    "browser.execute_script('document.querySelector(\".app-btn.hs_btn_login_start\").click();')\n",
    "\n",
    "email_input = WebDriverWait(browser.driver, 10).until(\n",
    "    EC.element_to_be_clickable((By.CSS_SELECTOR, '.form-input.medium.clear.input input[type=\"email\"]'))\n",
    ")\n",
    "\n",
    "\n",
    "login = (email) \n",
    "email_input.send_keys(login)"
   ]
  },
  {
   "cell_type": "code",
   "execution_count": null,
   "id": "ed498b02-96ec-420b-a1d5-a639465d3645",
   "metadata": {},
   "outputs": [],
   "source": [
    "password_input = WebDriverWait(browser.driver, 10).until(\n",
    "    EC.element_to_be_clickable((By.CSS_SELECTOR, '.form-input.medium.clear.input input[type=\"password\"]'))\n",
    ")\n",
    "password = (passw) \n",
    "password_input.send_keys(password)"
   ]
  },
  {
   "cell_type": "code",
   "execution_count": null,
   "id": "c5310777-f6cb-4425-b893-fc920aa42c50",
   "metadata": {},
   "outputs": [],
   "source": [
    "button = browser.find_by_css('.app-btn.hs_btn_login_submit_email').first\n",
    "button.click()"
   ]
  }
 ],
 "metadata": {
  "kernelspec": {
   "display_name": "Python 3 (ipykernel)",
   "language": "python",
   "name": "python3"
  },
  "language_info": {
   "codemirror_mode": {
    "name": "ipython",
    "version": 3
   },
   "file_extension": ".py",
   "mimetype": "text/x-python",
   "name": "python",
   "nbconvert_exporter": "python",
   "pygments_lexer": "ipython3",
   "version": "3.11.5"
  }
 },
 "nbformat": 4,
 "nbformat_minor": 5
}
